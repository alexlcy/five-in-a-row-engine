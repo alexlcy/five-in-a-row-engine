{
 "cells": [
  {
   "cell_type": "code",
   "execution_count": 78,
   "metadata": {},
   "outputs": [
    {
     "data": {
      "text/plain": [
       "['master_mat_2020_12_15_02_20_06.npy',\n",
       " 'master_move_2020_12_15_02_20_06.npy',\n",
       " 'DiscardModel.pem',\n",
       " 'Koning.pem',\n",
       " 'master_mat_2020_12_14_18_26_16.npy',\n",
       " 'master_move_2020_12_14_18_26_16.npy']"
      ]
     },
     "execution_count": 78,
     "metadata": {},
     "output_type": "execute_result"
    }
   ],
   "source": [
    "import os\n",
    "import copy\n",
    "import ast\n",
    "import time\n",
    "import json\n",
    "import random\n",
    "import glob\n",
    "import numpy as np\n",
    "from functools import partial\n",
    "from collections import Counter\n",
    "from tqdm import tqdm_notebook as tqdm\n",
    "\n",
    "import os\n",
    "import numpy as np\n",
    "import torch\n",
    "import torch.nn as nn\n",
    "import torch.nn.functional as F\n",
    "from torch.utils.data import Dataset, DataLoader\n",
    "from torchsummary import summary\n",
    "os.listdir(\"/Users/alexlo/Desktop/AWS\")"
   ]
  },
  {
   "cell_type": "code",
   "execution_count": 30,
   "metadata": {},
   "outputs": [],
   "source": [
    "lr = 0.001\n",
    "n_epoch = 100\n",
    "batch_size = 256\n",
    "n_cls = 64\n",
    "device = 'cuda' if torch.cuda.is_available() else 'cpu'"
   ]
  },
  {
   "cell_type": "code",
   "execution_count": 101,
   "metadata": {},
   "outputs": [],
   "source": [
    "class SamePadConv2d(nn.Conv2d):\n",
    "    def __init__(self, *args, **kwargs):\n",
    "        super().__init__(*args, **kwargs)\n",
    "        self.padding = (self.kernel_size[0] // 2, self.kernel_size[1] // 2)\n",
    "\n",
    "conv3x1 = partial(SamePadConv2d, kernel_size=(3,1))\n",
    "\n",
    "class ResidualBlock(nn.Module):\n",
    "    def __init__(self, in_channels):\n",
    "        super().__init__()\n",
    "        self.layer1 = self.make_layer(in_channels)\n",
    "        self.layer2 = self.make_layer(in_channels)\n",
    "\n",
    "    def make_layer(self, in_channels, dropout_prob=0.5):\n",
    "        layer = nn.Sequential(\n",
    "            conv3x1(in_channels, in_channels),\n",
    "            nn.BatchNorm2d(8),\n",
    "            nn.Dropout2d(dropout_prob),\n",
    "            nn.LeakyReLU()\n",
    "        )\n",
    "        return layer\n",
    "\n",
    "    def forward(self, x):\n",
    "        out = self.layer1(x)\n",
    "        out = self.layer2(out)\n",
    "        out += x\n",
    "        return out\n",
    "\n",
    "class GomokuNet5(nn.Module):\n",
    "    def __init__(self, n_cls=34, n_residuals=5):\n",
    "        super().__init__()\n",
    "        self.net = self.create_model(1, n_residuals, n_cls)\n",
    "\n",
    "    def forward(self, x):\n",
    "        return self.net(x)\n",
    "\n",
    "    def create_model(self, in_channels, n_residuals, n_cls):\n",
    "        # First layer\n",
    "        module_list = nn.ModuleList([\n",
    "            conv3x1(in_channels, 8),\n",
    "            nn.BatchNorm2d(8),\n",
    "            nn.Dropout2d(0.5),\n",
    "            nn.LeakyReLU()\n",
    "        ])\n",
    "        # Adding residual blocks\n",
    "        for layer_i in range(n_residuals):\n",
    "            module_list.append(ResidualBlock(8))\n",
    "\n",
    "        # Flatten & then fc layers\n",
    "        module_list.append(nn.Flatten())\n",
    "        out_feat = 1024\n",
    "        module_list += nn.ModuleList([\n",
    "            *self.linear_block(8*64, 1024, dropout_prob=0.2),\n",
    "            *self.linear_block(1024, 64, dropout_prob=0.2),\n",
    "            nn.Linear(64, n_cls)\n",
    "        ])\n",
    "\n",
    "        return nn.Sequential(*module_list)\n",
    "\n",
    "    def linear_block(self, n_feat, out_feat, dropout_prob=0.5):\n",
    "        block = nn.ModuleList([\n",
    "            nn.Linear(n_feat, out_feat),\n",
    "            nn.BatchNorm1d(out_feat),\n",
    "            nn.Dropout(dropout_prob),\n",
    "            nn.LeakyReLU()\n",
    "        ])\n",
    "        return block"
   ]
  },
  {
   "cell_type": "code",
   "execution_count": 427,
   "metadata": {},
   "outputs": [],
   "source": [
    "def compute_acc(pred, label):\n",
    "    probs = torch.log_softmax(pred, dim = 1)\n",
    "    _, tags = torch.max(probs, dim = 1)\n",
    "    corrects = (tags == label).float()\n",
    "    acc = corrects.sum()/len(corrects)\n",
    "    acc = torch.round(acc)*100\n",
    "    return acc\n",
    "\n",
    "# def compute_acc(pred, target):\n",
    "#     '''\n",
    "#     Args:\n",
    "#     - pred (torch.tensor, float32): unnormalized logits (before softmax) shape [bs, n_cls]\n",
    "#     - target (torch.tensor, int64): shape [bs]\n",
    "\n",
    "#     Returns:\n",
    "#     - acc (float): exact classification accuracy\n",
    "#     '''\n",
    "#     pred = torch.argmax(F.softmax(pred, dim=-1), dim=-1)\n",
    "\n",
    "#     # Exact accuracy\n",
    "#     acc = (pred == target).sum()/(target.shape[0])\n",
    "#     return acc.item()\n",
    "\n",
    "def save_checkpoints(epoch, model, optimizer, train_loss, val_acc):\n",
    "    save_dir = 'gomoku_ckpts/'\n",
    "    if not os.path.exists(save_dir):\n",
    "        os.makedirs(save_dir)\n",
    "    save_path = os.path.join(save_dir, f'ep{epoch}-val_acc{val_acc:.4f}.tar')\n",
    "    torch.save({\n",
    "            'epoch': epoch,\n",
    "            'model_state_dict': model.state_dict(),\n",
    "            'optimizer_state_dict': optimizer.state_dict(),\n",
    "            'loss': loss,\n",
    "            }, save_path)\n",
    "    print('Checkpoint saved')"
   ]
  },
  {
   "cell_type": "code",
   "execution_count": 417,
   "metadata": {},
   "outputs": [],
   "source": [
    "# Loss function\n",
    "# cls_weights = [1/train_set.cls_ratios[i] for i in range(n_cls)]\n",
    "# cls_weights = torch.tensor([w/sum(cls_weights) for w in cls_weights])\n",
    "# criterion = nn.CrossEntropyLoss(cls_weights)\n",
    "criterion = nn.CrossEntropyLoss()\n",
    "criterion.to(device)\n",
    "\n",
    "# Optimizer\n",
    "optimizer = torch.optim.Adam(model.parameters(), lr=lr)\n",
    "\n",
    "# Scheduler\n",
    "#scheduler = torch.optim.lr_scheduler.OneCycleLR(optimizer, max_lr=0.01, steps_per_epoch=len(train_loader), epochs=n_epoch, div_factor=20)"
   ]
  },
  {
   "cell_type": "code",
   "execution_count": 454,
   "metadata": {},
   "outputs": [
    {
     "ename": "NotADirectoryError",
     "evalue": "[Errno 20] Not a directory: 'game_data/master_mat_2020_12_15_02_20_06.npy'",
     "output_type": "error",
     "traceback": [
      "\u001b[0;31m-------------------------------------------------------------------------\u001b[0m",
      "\u001b[0;31mNotADirectoryError\u001b[0m                      Traceback (most recent call last)",
      "\u001b[0;32m<ipython-input-454-23f52016c147>\u001b[0m in \u001b[0;36m<module>\u001b[0;34m\u001b[0m\n\u001b[0;32m----> 1\u001b[0;31m \u001b[0mos\u001b[0m\u001b[0;34m.\u001b[0m\u001b[0mlistdir\u001b[0m\u001b[0;34m(\u001b[0m\u001b[0;34m'game_data/master_mat_2020_12_15_02_20_06.npy'\u001b[0m\u001b[0;34m)\u001b[0m\u001b[0;34m\u001b[0m\u001b[0;34m\u001b[0m\u001b[0m\n\u001b[0m",
      "\u001b[0;31mNotADirectoryError\u001b[0m: [Errno 20] Not a directory: 'game_data/master_mat_2020_12_15_02_20_06.npy'"
     ]
    }
   ],
   "source": [
    "os.listdir('game_data/master_mat_2020_12_15_02_20_06.npy')"
   ]
  },
  {
   "cell_type": "code",
   "execution_count": 481,
   "metadata": {},
   "outputs": [],
   "source": [
    "Y = np.load('game_data/master_move_2020_12_15_02_20_06.npy')\n",
    "X = np.load('game_data/master_mat_2020_12_15_02_20_06.npy')"
   ]
  },
  {
   "cell_type": "code",
   "execution_count": 487,
   "metadata": {},
   "outputs": [],
   "source": [
    "Y = Y.reshape(20170, 64)"
   ]
  },
  {
   "cell_type": "code",
   "execution_count": 488,
   "metadata": {},
   "outputs": [],
   "source": [
    "X_train = X[:int(len(X)*0.6)]\n",
    "X_test = X[int(len(X)*0.6):]\n",
    "Y_train = Y[:int(len(X)*0.6)]\n",
    "Y_test = Y[int(len(X)*0.6):]"
   ]
  },
  {
   "cell_type": "code",
   "execution_count": 489,
   "metadata": {},
   "outputs": [],
   "source": [
    "X_train = np.expand_dims(X_train, axis= 1)\n",
    "X_test = np.expand_dims(X_test, axis = 1)\n",
    "Y_train = np.expand_dims(Y_train, axis = 1)\n",
    "Y_test = np.expand_dims(Y_test, axis = 1)"
   ]
  },
  {
   "cell_type": "code",
   "execution_count": 490,
   "metadata": {},
   "outputs": [],
   "source": [
    "np.save(\"X_train\",X_train.astype(np.float32))\n",
    "np.save(\"X_test\",X_test.astype(np.float32))\n",
    "np.save(\"Y_train\",Y_train.astype(np.float32))\n",
    "np.save(\"Y_test\",Y_test.astype(np.float32))"
   ]
  },
  {
   "cell_type": "code",
   "execution_count": 491,
   "metadata": {},
   "outputs": [],
   "source": [
    "from torch.utils.data import Dataset, DataLoader\n",
    "#from torchsummary import summary\n",
    "\n",
    "\n",
    "class GomokuDataset(Dataset):\n",
    "    def __init__(self, TRAIN_PATH, TEST_PATH):\n",
    "        self.X = torch.from_numpy(np.load(TRAIN_PATH).astype(np.float32))\n",
    "        self.Y = torch.from_numpy(np.load(TEST_PATH).astype(np.float32))\n",
    "        self.Y = torch.max(torch.tensor(self.Y).squeeze(),1)[1]\n",
    "\n",
    "    def __getitem__(self, idx):\n",
    "        return self.X[idx], self.Y[idx]\n",
    "\n",
    "    def __len__(self):\n",
    "        return len(self.X)"
   ]
  },
  {
   "cell_type": "code",
   "execution_count": 492,
   "metadata": {},
   "outputs": [],
   "source": [
    "class GomokuNet5(nn.Module):\n",
    "#     def __init__(self, n_cls=34, n_residuals=5):\n",
    "#         super().__init__()\n",
    "#         self.net = self.create_model(1, n_residuals, n_cls)\n",
    "\n",
    "#     def forward(self, x):\n",
    "#         return self.net(x)\n",
    "\n",
    "#     def create_model(self, in_channels, n_residuals, n_cls):\n",
    "#         # First layer\n",
    "#         module_list = nn.ModuleList([\n",
    "#             conv3x1(in_channels, 8),\n",
    "#             nn.BatchNorm2d(8),\n",
    "#             nn.Dropout2d(0.5),\n",
    "#             nn.LeakyReLU()\n",
    "            \n",
    "    def __init__(self):\n",
    "        super(GomokuNet5, self).__init__()\n",
    "        self.conv1 = nn.Conv2d(1, 1, 3)\n",
    "        #self.pool = nn.MaxPool2d(2, 2)\n",
    "        self.conv2 = nn.Conv2d(1, 4, 2)\n",
    "        self.fc1 = nn.Linear(100, 256)\n",
    "        self.fc2 = nn.Linear(256, 256)\n",
    "        self.fc3 = nn.Linear(256, 64)\n",
    "        self.flatten = nn.Flatten()\n",
    "\n",
    "    def forward(self, x):\n",
    "        x = F.relu(self.conv1(x))\n",
    "        x = F.relu(self.conv2(x))\n",
    "        x = self.flatten(x)\n",
    "        x = F.relu(self.fc1(x))\n",
    "        x = F.relu(self.fc2(x))\n",
    "        x = self.fc3(x)\n",
    "        return x"
   ]
  },
  {
   "cell_type": "code",
   "execution_count": 493,
   "metadata": {
    "scrolled": true
   },
   "outputs": [
    {
     "name": "stderr",
     "output_type": "stream",
     "text": [
      "/Users/alexlo/anaconda3/lib/python3.7/site-packages/ipykernel_launcher.py:9: UserWarning: To copy construct from a tensor, it is recommended to use sourceTensor.clone().detach() or sourceTensor.clone().detach().requires_grad_(True), rather than torch.tensor(sourceTensor).\n",
      "  if __name__ == '__main__':\n"
     ]
    },
    {
     "data": {
      "text/plain": [
       "GomokuNet5(\n",
       "  (conv1): Conv2d(1, 1, kernel_size=(3, 3), stride=(1, 1))\n",
       "  (conv2): Conv2d(1, 4, kernel_size=(2, 2), stride=(1, 1))\n",
       "  (fc1): Linear(in_features=100, out_features=256, bias=True)\n",
       "  (fc2): Linear(in_features=256, out_features=256, bias=True)\n",
       "  (fc3): Linear(in_features=256, out_features=64, bias=True)\n",
       "  (flatten): Flatten()\n",
       ")"
      ]
     },
     "execution_count": 493,
     "metadata": {},
     "output_type": "execute_result"
    }
   ],
   "source": [
    "train_dataset = GomokuDataset(\"X_train.npy\", \"Y_train.npy\")\n",
    "val_dataset = GomokuDataset(\"X_test.npy\", \"X_test.npy\")\n",
    "train_loader = DataLoader(dataset = train_dataset, batch_size = 16)\n",
    "val_loader = DataLoader(dataset = val_dataset, batch_size = 16)\n",
    "model = GomokuNet5()\n",
    "device = 'cuda' if torch.cuda.is_available() else 'cpu'\n",
    "model = model.float()\n",
    "model.to(device)"
   ]
  },
  {
   "cell_type": "code",
   "execution_count": 494,
   "metadata": {
    "scrolled": false
   },
   "outputs": [
    {
     "name": "stderr",
     "output_type": "stream",
     "text": [
      "/Users/alexlo/anaconda3/lib/python3.7/site-packages/ipykernel_launcher.py:7: TqdmDeprecationWarning: This function will be removed in tqdm==5.0.0\n",
      "Please use `tqdm.notebook.tqdm` instead of `tqdm.tqdm_notebook`\n",
      "  import sys\n"
     ]
    },
    {
     "data": {
      "application/vnd.jupyter.widget-view+json": {
       "model_id": "ac64b38aa1344dddac0b1ff59da56e0c",
       "version_major": 2,
       "version_minor": 0
      },
      "text/plain": [
       "HBox(children=(FloatProgress(value=0.0, description='Epoch 0/100', max=757.0, style=ProgressStyle(description_…"
      ]
     },
     "metadata": {},
     "output_type": "display_data"
    },
    {
     "ename": "KeyboardInterrupt",
     "evalue": "",
     "output_type": "error",
     "traceback": [
      "\u001b[0;31m-------------------------------------------------------------------------\u001b[0m",
      "\u001b[0;31mKeyboardInterrupt\u001b[0m                       Traceback (most recent call last)",
      "\u001b[0;32m<ipython-input-494-f3ec0cfb1a9c>\u001b[0m in \u001b[0;36m<module>\u001b[0;34m\u001b[0m\n\u001b[1;32m     11\u001b[0m         \u001b[0moptimizer\u001b[0m\u001b[0;34m.\u001b[0m\u001b[0mzero_grad\u001b[0m\u001b[0;34m(\u001b[0m\u001b[0;34m)\u001b[0m\u001b[0;34m\u001b[0m\u001b[0;34m\u001b[0m\u001b[0m\n\u001b[1;32m     12\u001b[0m \u001b[0;34m\u001b[0m\u001b[0m\n\u001b[0;32m---> 13\u001b[0;31m         \u001b[0mpreds\u001b[0m \u001b[0;34m=\u001b[0m \u001b[0mmodel\u001b[0m\u001b[0;34m(\u001b[0m\u001b[0mX\u001b[0m\u001b[0;34m)\u001b[0m\u001b[0;34m\u001b[0m\u001b[0;34m\u001b[0m\u001b[0m\n\u001b[0m\u001b[1;32m     14\u001b[0m \u001b[0;34m\u001b[0m\u001b[0m\n\u001b[1;32m     15\u001b[0m         \u001b[0;31m# Calculate loss & update\u001b[0m\u001b[0;34m\u001b[0m\u001b[0;34m\u001b[0m\u001b[0;34m\u001b[0m\u001b[0m\n",
      "\u001b[0;32m~/anaconda3/lib/python3.7/site-packages/torch/nn/modules/module.py\u001b[0m in \u001b[0;36m_call_impl\u001b[0;34m(self, *input, **kwargs)\u001b[0m\n\u001b[1;32m    720\u001b[0m             \u001b[0mresult\u001b[0m \u001b[0;34m=\u001b[0m \u001b[0mself\u001b[0m\u001b[0;34m.\u001b[0m\u001b[0m_slow_forward\u001b[0m\u001b[0;34m(\u001b[0m\u001b[0;34m*\u001b[0m\u001b[0minput\u001b[0m\u001b[0;34m,\u001b[0m \u001b[0;34m**\u001b[0m\u001b[0mkwargs\u001b[0m\u001b[0;34m)\u001b[0m\u001b[0;34m\u001b[0m\u001b[0;34m\u001b[0m\u001b[0m\n\u001b[1;32m    721\u001b[0m         \u001b[0;32melse\u001b[0m\u001b[0;34m:\u001b[0m\u001b[0;34m\u001b[0m\u001b[0;34m\u001b[0m\u001b[0m\n\u001b[0;32m--> 722\u001b[0;31m             \u001b[0mresult\u001b[0m \u001b[0;34m=\u001b[0m \u001b[0mself\u001b[0m\u001b[0;34m.\u001b[0m\u001b[0mforward\u001b[0m\u001b[0;34m(\u001b[0m\u001b[0;34m*\u001b[0m\u001b[0minput\u001b[0m\u001b[0;34m,\u001b[0m \u001b[0;34m**\u001b[0m\u001b[0mkwargs\u001b[0m\u001b[0;34m)\u001b[0m\u001b[0;34m\u001b[0m\u001b[0;34m\u001b[0m\u001b[0m\n\u001b[0m\u001b[1;32m    723\u001b[0m         for hook in itertools.chain(\n\u001b[1;32m    724\u001b[0m                 \u001b[0m_global_forward_hooks\u001b[0m\u001b[0;34m.\u001b[0m\u001b[0mvalues\u001b[0m\u001b[0;34m(\u001b[0m\u001b[0;34m)\u001b[0m\u001b[0;34m,\u001b[0m\u001b[0;34m\u001b[0m\u001b[0;34m\u001b[0m\u001b[0m\n",
      "\u001b[0;32m<ipython-input-492-54b7345ce2da>\u001b[0m in \u001b[0;36mforward\u001b[0;34m(self, x)\u001b[0m\n\u001b[1;32m     28\u001b[0m         \u001b[0mx\u001b[0m \u001b[0;34m=\u001b[0m \u001b[0mF\u001b[0m\u001b[0;34m.\u001b[0m\u001b[0mrelu\u001b[0m\u001b[0;34m(\u001b[0m\u001b[0mself\u001b[0m\u001b[0;34m.\u001b[0m\u001b[0mconv1\u001b[0m\u001b[0;34m(\u001b[0m\u001b[0mx\u001b[0m\u001b[0;34m)\u001b[0m\u001b[0;34m)\u001b[0m\u001b[0;34m\u001b[0m\u001b[0;34m\u001b[0m\u001b[0m\n\u001b[1;32m     29\u001b[0m         \u001b[0mx\u001b[0m \u001b[0;34m=\u001b[0m \u001b[0mF\u001b[0m\u001b[0;34m.\u001b[0m\u001b[0mrelu\u001b[0m\u001b[0;34m(\u001b[0m\u001b[0mself\u001b[0m\u001b[0;34m.\u001b[0m\u001b[0mconv2\u001b[0m\u001b[0;34m(\u001b[0m\u001b[0mx\u001b[0m\u001b[0;34m)\u001b[0m\u001b[0;34m)\u001b[0m\u001b[0;34m\u001b[0m\u001b[0;34m\u001b[0m\u001b[0m\n\u001b[0;32m---> 30\u001b[0;31m         \u001b[0mx\u001b[0m \u001b[0;34m=\u001b[0m \u001b[0mself\u001b[0m\u001b[0;34m.\u001b[0m\u001b[0mflatten\u001b[0m\u001b[0;34m(\u001b[0m\u001b[0mx\u001b[0m\u001b[0;34m)\u001b[0m\u001b[0;34m\u001b[0m\u001b[0;34m\u001b[0m\u001b[0m\n\u001b[0m\u001b[1;32m     31\u001b[0m         \u001b[0mx\u001b[0m \u001b[0;34m=\u001b[0m \u001b[0mF\u001b[0m\u001b[0;34m.\u001b[0m\u001b[0mrelu\u001b[0m\u001b[0;34m(\u001b[0m\u001b[0mself\u001b[0m\u001b[0;34m.\u001b[0m\u001b[0mfc1\u001b[0m\u001b[0;34m(\u001b[0m\u001b[0mx\u001b[0m\u001b[0;34m)\u001b[0m\u001b[0;34m)\u001b[0m\u001b[0;34m\u001b[0m\u001b[0;34m\u001b[0m\u001b[0m\n\u001b[1;32m     32\u001b[0m         \u001b[0mx\u001b[0m \u001b[0;34m=\u001b[0m \u001b[0mF\u001b[0m\u001b[0;34m.\u001b[0m\u001b[0mrelu\u001b[0m\u001b[0;34m(\u001b[0m\u001b[0mself\u001b[0m\u001b[0;34m.\u001b[0m\u001b[0mfc2\u001b[0m\u001b[0;34m(\u001b[0m\u001b[0mx\u001b[0m\u001b[0;34m)\u001b[0m\u001b[0;34m)\u001b[0m\u001b[0;34m\u001b[0m\u001b[0;34m\u001b[0m\u001b[0m\n",
      "\u001b[0;32m~/anaconda3/lib/python3.7/site-packages/torch/nn/modules/module.py\u001b[0m in \u001b[0;36m_call_impl\u001b[0;34m(self, *input, **kwargs)\u001b[0m\n\u001b[1;32m    723\u001b[0m         for hook in itertools.chain(\n\u001b[1;32m    724\u001b[0m                 \u001b[0m_global_forward_hooks\u001b[0m\u001b[0;34m.\u001b[0m\u001b[0mvalues\u001b[0m\u001b[0;34m(\u001b[0m\u001b[0;34m)\u001b[0m\u001b[0;34m,\u001b[0m\u001b[0;34m\u001b[0m\u001b[0;34m\u001b[0m\u001b[0m\n\u001b[0;32m--> 725\u001b[0;31m                 self._forward_hooks.values()):\n\u001b[0m\u001b[1;32m    726\u001b[0m             \u001b[0mhook_result\u001b[0m \u001b[0;34m=\u001b[0m \u001b[0mhook\u001b[0m\u001b[0;34m(\u001b[0m\u001b[0mself\u001b[0m\u001b[0;34m,\u001b[0m \u001b[0minput\u001b[0m\u001b[0;34m,\u001b[0m \u001b[0mresult\u001b[0m\u001b[0;34m)\u001b[0m\u001b[0;34m\u001b[0m\u001b[0;34m\u001b[0m\u001b[0m\n\u001b[1;32m    727\u001b[0m             \u001b[0;32mif\u001b[0m \u001b[0mhook_result\u001b[0m \u001b[0;32mis\u001b[0m \u001b[0;32mnot\u001b[0m \u001b[0;32mNone\u001b[0m\u001b[0;34m:\u001b[0m\u001b[0;34m\u001b[0m\u001b[0;34m\u001b[0m\u001b[0m\n",
      "\u001b[0;31mKeyboardInterrupt\u001b[0m: "
     ]
    }
   ],
   "source": [
    "# train from scratch\n",
    "best_val_acc = 0\n",
    "ep_start = 0\n",
    "\n",
    "for epoch in range(ep_start, n_epoch):\n",
    "    model.train()\n",
    "    pbar = tqdm(train_loader, desc=f\"Epoch {epoch}/{n_epoch}\")\n",
    "    train_loss, train_acc = 0, 0\n",
    "    for bi, (X, Y) in enumerate(pbar):\n",
    "        \n",
    "        optimizer.zero_grad()\n",
    "\n",
    "        preds = model(X)\n",
    "        \n",
    "        # Calculate loss & update\n",
    "        loss = criterion(preds, Y)\n",
    "        loss.backward()\n",
    "        optimizer.step()\n",
    "\n",
    "        train_loss += loss.detach().item()\n",
    "        acc = compute_acc(preds.cpu(), Y.cpu())\n",
    "        train_acc += acc\n",
    "\n",
    "        pbar.set_postfix_str(f'Train loss: {loss.detach().item():.4f} | Train Acc: {(train_acc/(bi+1)):.4f}')\n",
    "\n",
    "    # End of epoch\n",
    "    train_loss /= (bi+1)\n",
    "    train_acc /= (bi+1)\n",
    "\n",
    "    val_acc = validate(model, val_loader, epoch)\n",
    "\n",
    "    if val_acc >= best_val_acc:\n",
    "        best_val_acc = val_acc\n",
    "        save_checkpoints(epoch, model, optimizer, train_loss, val_acc)\n",
    "\n",
    "    pbar.set_postfix_str(f'Train loss: {train_loss:.4f} | Train Acc: {train_acc:.4f}')"
   ]
  },
  {
   "cell_type": "code",
   "execution_count": null,
   "metadata": {},
   "outputs": [],
   "source": [
    "for (X,Y) in train_loader:\n",
    "    #print(X)\n",
    "    print(Y[1])\n",
    "    break"
   ]
  },
  {
   "cell_type": "code",
   "execution_count": null,
   "metadata": {},
   "outputs": [],
   "source": []
  }
 ],
 "metadata": {
  "kernelspec": {
   "display_name": "Python 3",
   "language": "python",
   "name": "python3"
  },
  "language_info": {
   "codemirror_mode": {
    "name": "ipython",
    "version": 3
   },
   "file_extension": ".py",
   "mimetype": "text/x-python",
   "name": "python",
   "nbconvert_exporter": "python",
   "pygments_lexer": "ipython3",
   "version": "3.7.6"
  }
 },
 "nbformat": 4,
 "nbformat_minor": 4
}
