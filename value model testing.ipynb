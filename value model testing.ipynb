{
 "cells": [
  {
   "cell_type": "code",
   "execution_count": 73,
   "metadata": {},
   "outputs": [],
   "source": [
    "import tensorflow as tf\n",
    "from encoder.base import get_encoder_by_name\n",
    "import numpy as np"
   ]
  },
  {
   "cell_type": "code",
   "execution_count": 74,
   "metadata": {},
   "outputs": [],
   "source": [
    "encoder = get_encoder_by_name('layer_20_encoder', (8,8))\n",
    "#value_net = tf.keras.models.load_model('saved_model/alpha_gomuku_value_net')\n",
    "value_net = tf.keras.models.load_model('saved_model/alpha_gomuku_value_net_no_draw')"
   ]
  },
  {
   "cell_type": "code",
   "execution_count": 75,
   "metadata": {},
   "outputs": [],
   "source": [
    "mat = np.array([[0., 0., 0., 0., 0., 0., 0., 0.],\n",
    "                [0., 0., 0., 0., 0., 0., 0., 0.],\n",
    "                [0., 0., 0., 0., 1., 0., 0., 0.],\n",
    "                [0., 0., 0., 1., 1., 0., 0., 0.],\n",
    "                [0., 0., 1., -1., -1., -1., -1., 0.],\n",
    "                [0., 1., 0., 0., 0., 0., 0., 0.],\n",
    "                [0., 0., 0., 0., 0., 0., 0., 0.],\n",
    "                [0., 0., 0., 0., 0., 0., 0., 0.]]\n",
    "              )"
   ]
  },
  {
   "cell_type": "code",
   "execution_count": 76,
   "metadata": {},
   "outputs": [
    {
     "data": {
      "text/plain": [
       "array([[0.61872095]], dtype=float32)"
      ]
     },
     "execution_count": 76,
     "metadata": {},
     "output_type": "execute_result"
    }
   ],
   "source": [
    "X_input = encoder.encode(mat, 1, (1,5))\n",
    "value_net.predict(X_input)"
   ]
  },
  {
   "cell_type": "code",
   "execution_count": 77,
   "metadata": {},
   "outputs": [
    {
     "data": {
      "text/plain": [
       "array([[-0.97420996]], dtype=float32)"
      ]
     },
     "execution_count": 77,
     "metadata": {},
     "output_type": "execute_result"
    }
   ],
   "source": [
    "X_input = encoder.encode(mat, -1, (4,6))\n",
    "value_net.predict(X_input)"
   ]
  },
  {
   "cell_type": "code",
   "execution_count": 85,
   "metadata": {},
   "outputs": [],
   "source": [
    "result = np.load(\"game_data/master_result_rule_2020_12_20_09_27_41.npy\")"
   ]
  },
  {
   "cell_type": "code",
   "execution_count": 86,
   "metadata": {
    "scrolled": true
   },
   "outputs": [
    {
     "data": {
      "text/plain": [
       "6280"
      ]
     },
     "execution_count": 86,
     "metadata": {},
     "output_type": "execute_result"
    }
   ],
   "source": [
    "len(result)"
   ]
  },
  {
   "cell_type": "code",
   "execution_count": 87,
   "metadata": {},
   "outputs": [
    {
     "data": {
      "text/plain": [
       " 0.5    6144\n",
       "-1.0      94\n",
       " 1.0      42\n",
       "dtype: int64"
      ]
     },
     "execution_count": 87,
     "metadata": {},
     "output_type": "execute_result"
    }
   ],
   "source": [
    "import pandas as pd\n",
    "pd.Series(result).value_counts()"
   ]
  },
  {
   "cell_type": "code",
   "execution_count": null,
   "metadata": {},
   "outputs": [],
   "source": []
  }
 ],
 "metadata": {
  "kernelspec": {
   "display_name": "Python 3",
   "language": "python",
   "name": "python3"
  },
  "language_info": {
   "codemirror_mode": {
    "name": "ipython",
    "version": 3
   },
   "file_extension": ".py",
   "mimetype": "text/x-python",
   "name": "python",
   "nbconvert_exporter": "python",
   "pygments_lexer": "ipython3",
   "version": "3.7.6"
  }
 },
 "nbformat": 4,
 "nbformat_minor": 4
}
